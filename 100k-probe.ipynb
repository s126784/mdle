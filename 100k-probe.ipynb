{
 "cells": [
  {
   "cell_type": "code",
   "execution_count": 240,
   "id": "88b23dbf",
   "metadata": {},
   "outputs": [],
   "source": [
    "\n",
    "import time\n",
    "import os\n",
    "\n",
    "import pandas as pd\n",
    "from pyspark.sql import SparkSession\n",
    "from pyspark.sql.functions import collect_set, avg, row_number, struct, collect_list, col, count as sql_count, sum as sql_sum, coalesce, lit\n",
    "from pyspark.sql.window import Window\n",
    "from pyspark.ml.linalg import Vectors\n",
    "from pyspark.sql import Row\n",
    "from itertools import combinations\n",
    "import matplotlib.pyplot as plt\n",
    "import numpy as np\n",
    "from pyspark.ml.feature import Normalizer, BucketedRandomProjectionLSH\n",
    "from pyspark.ml.evaluation import RegressionEvaluator\n",
    "\n",
    "seed = 126784\n",
    "DATASET = \"100k\"\n",
    "BUCKET_LENGTH = 2.0\n",
    "NUM_HASH_TABLES = 3\n",
    "SIMILARITY_THRESHOLD = 1.0\n",
    "TOP_K = 20\n",
    "DEFAULT_RATING = 3.0\n",
    "OUTPUT_DIR = \"results\"\n",
    "METRICS_FILE = os.path.join(OUTPUT_DIR, \"100k_metrics.csv\")\n",
    "\n",
    "os.makedirs(OUTPUT_DIR, exist_ok=True)\n"
   ]
  },
  {
   "cell_type": "code",
   "execution_count": 241,
   "id": "8778d5a2",
   "metadata": {},
   "outputs": [],
   "source": [
    "spark = SparkSession.builder \\\n",
    "    .appName(\"126784-PRJ3B\") \\\n",
    "    .config(\"spark.driver.extraJavaOptions\", \"-Djava.security.manager=allow\") \\\n",
    "    .config(\"spark.executor.extraJavaOptions\", \"-Djava.security.manager=allow\") \\\n",
    "    .getOrCreate()\n",
    "sc = spark.sparkContext"
   ]
  },
  {
   "cell_type": "code",
   "execution_count": 242,
   "id": "0741d52e",
   "metadata": {},
   "outputs": [
    {
     "name": "stdout",
     "output_type": "stream",
     "text": [
      "Ratings count: 100836\n",
      "Movies count: 9742\n",
      "Users count: 610\n"
     ]
    },
    {
     "data": {
      "text/plain": [
       "Text(0.5, 1.0, 'Rating Distribution')"
      ]
     },
     "execution_count": 242,
     "metadata": {},
     "output_type": "execute_result"
    },
    {
     "data": {
      "image/png": "[encoded data removed]",
      "text/plain": [
       "<Figure size 500x100 with 1 Axes>"
      ]
     },
     "metadata": {},
     "output_type": "display_data"
    }
   ],
   "source": [
    "ratings_df = spark.read.csv(f\"./datasets/{DATASET}/ratings.csv\", header=True, inferSchema=True)\n",
    "movies_df = spark.read.csv(f\"./datasets/{DATASET}/movies.csv\", header=True, inferSchema=True)\n",
    "\n",
    "print(f\"Ratings count: {ratings_df.count()}\")\n",
    "print(f\"Movies count: {movies_df.count()}\")\n",
    "print(f\"Users count: {ratings_df.select('userId').distinct().count()}\")\n",
    "\n",
    "rating_stats_pd = ratings_df.groupBy(\"rating\").count().orderBy(\"rating\").toPandas()\n",
    "plt.figure(figsize=(5, 1))\n",
    "plt.bar(rating_stats_pd['rating'], rating_stats_pd['count'])\n",
    "plt.title('Rating Distribution')\n"
   ]
  },
  {
   "cell_type": "markdown",
   "id": "c0477498",
   "metadata": {},
   "source": [
    "### Sample Rating"
   ]
  },
  {
   "cell_type": "code",
   "execution_count": 243,
   "id": "e506935e",
   "metadata": {},
   "outputs": [
    {
     "name": "stdout",
     "output_type": "stream",
     "text": [
      "+------+-------+------+---------+\n",
      "|userId|movieId|rating|timestamp|\n",
      "+------+-------+------+---------+\n",
      "|     1|      1|   4.0|964982703|\n",
      "|     1|      3|   4.0|964981247|\n",
      "|     1|      6|   4.0|964982224|\n",
      "|     1|     47|   5.0|964983815|\n",
      "|     1|     50|   5.0|964982931|\n",
      "+------+-------+------+---------+\n",
      "only showing top 5 rows\n"
     ]
    }
   ],
   "source": [
    "ratings_df.show(5)"
   ]
  },
  {
   "cell_type": "markdown",
   "id": "bf161d49",
   "metadata": {},
   "source": [
    "### Sample Movies"
   ]
  },
  {
   "cell_type": "code",
   "execution_count": 244,
   "id": "3ce37827",
   "metadata": {},
   "outputs": [
    {
     "name": "stdout",
     "output_type": "stream",
     "text": [
      "+-------+----------------------------------+-------------------------------------------+\n",
      "|movieId|title                             |genres                                     |\n",
      "+-------+----------------------------------+-------------------------------------------+\n",
      "|1      |Toy Story (1995)                  |Adventure|Animation|Children|Comedy|Fantasy|\n",
      "|2      |Jumanji (1995)                    |Adventure|Children|Fantasy                 |\n",
      "|3      |Grumpier Old Men (1995)           |Comedy|Romance                             |\n",
      "|4      |Waiting to Exhale (1995)          |Comedy|Drama|Romance                       |\n",
      "|5      |Father of the Bride Part II (1995)|Comedy                                     |\n",
      "+-------+----------------------------------+-------------------------------------------+\n",
      "only showing top 5 rows\n"
     ]
    }
   ],
   "source": [
    "movies_df.show(5, truncate=False)"
   ]
  },
  {
   "cell_type": "code",
   "execution_count": 245,
   "id": "404106c0",
   "metadata": {},
   "outputs": [
    {
     "name": "stdout",
     "output_type": "stream",
     "text": [
      "Training set statistics:\n",
      "Total ratings: 90916\n",
      "Unique users: 610\n",
      "Unique movies: 9372\n",
      "Average rating: 3.501\n",
      "\n",
      "Test set statistics:\n",
      "Total ratings: 9920\n",
      "Unique users: 598\n",
      "Unique movies: 3653\n",
      "Average rating: 3.506\n"
     ]
    }
   ],
   "source": [
    "ratings_train_df, ratings_test_df = ratings_df.randomSplit([0.9, 0.1], seed=seed)\n",
    "\n",
    "print(\"Training set statistics:\")\n",
    "print(f\"Total ratings: {ratings_train_df.count()}\")\n",
    "print(f\"Unique users: {ratings_train_df.select('userId').distinct().count()}\")\n",
    "print(f\"Unique movies: {ratings_train_df.select('movieId').distinct().count()}\")\n",
    "print(f\"Average rating: {ratings_train_df.agg(avg('rating')).collect()[0][0]:.3f}\")\n",
    "\n",
    "print(\"\\nTest set statistics:\")\n",
    "print(f\"Total ratings: {ratings_test_df.count()}\")\n",
    "print(f\"Unique users: {ratings_test_df.select('userId').distinct().count()}\")\n",
    "print(f\"Unique movies: {ratings_test_df.select('movieId').distinct().count()}\")\n",
    "print(f\"Average rating: {ratings_test_df.agg(avg('rating')).collect()[0][0]:.3f}\")"
   ]
  },
  {
   "cell_type": "code",
   "execution_count": 246,
   "id": "1aab92f3",
   "metadata": {},
   "outputs": [
    {
     "name": "stdout",
     "output_type": "stream",
     "text": [
      "+------+--------+\n",
      "|userId|user_idx|\n",
      "+------+--------+\n",
      "|     1|       0|\n",
      "|     2|       1|\n",
      "|     3|       2|\n",
      "|     4|       3|\n",
      "|     5|       4|\n",
      "|     6|       5|\n",
      "|     7|       6|\n",
      "|     8|       7|\n",
      "|     9|       8|\n",
      "|    10|       9|\n",
      "+------+--------+\n",
      "only showing top 10 rows\n"
     ]
    },
    {
     "name": "stderr",
     "output_type": "stream",
     "text": [
      "25/06/04 23:53:29 WARN WindowExec: No Partition Defined for Window operation! Moving all data to a single partition, this can cause serious performance degradation.\n",
      "25/06/04 23:53:29 WARN WindowExec: No Partition Defined for Window operation! Moving all data to a single partition, this can cause serious performance degradation.\n",
      "25/06/04 23:53:29 WARN WindowExec: No Partition Defined for Window operation! Moving all data to a single partition, this can cause serious performance degradation.\n",
      "25/06/04 23:53:29 WARN WindowExec: No Partition Defined for Window operation! Moving all data to a single partition, this can cause serious performance degradation.\n",
      "25/06/04 23:53:29 WARN WindowExec: No Partition Defined for Window operation! Moving all data to a single partition, this can cause serious performance degradation.\n",
      "25/06/04 23:53:29 WARN WindowExec: No Partition Defined for Window operation! Moving all data to a single partition, this can cause serious performance degradation.\n"
     ]
    }
   ],
   "source": [
    "user_index = ratings_train_df.select(\"userId\").distinct().withColumn(\n",
    "    \"user_idx\",\n",
    "    row_number().over(Window.orderBy(\"userId\")) - 1\n",
    ")\n",
    "num_users = user_index.count()\n",
    "user_index.show(10)"
   ]
  },
  {
   "cell_type": "code",
   "execution_count": 247,
   "id": "1f6ab51b",
   "metadata": {},
   "outputs": [
    {
     "name": "stderr",
     "output_type": "stream",
     "text": [
      "25/06/04 23:53:29 WARN WindowExec: No Partition Defined for Window operation! Moving all data to a single partition, this can cause serious performance degradation.\n",
      "25/06/04 23:53:29 WARN WindowExec: No Partition Defined for Window operation! Moving all data to a single partition, this can cause serious performance degradation.\n",
      "25/06/04 23:53:29 WARN WindowExec: No Partition Defined for Window operation! Moving all data to a single partition, this can cause serious performance degradation.\n",
      "25/06/04 23:53:29 WARN WindowExec: No Partition Defined for Window operation! Moving all data to a single partition, this can cause serious performance degradation.\n",
      "25/06/04 23:53:29 WARN WindowExec: No Partition Defined for Window operation! Moving all data to a single partition, this can cause serious performance degradation.\n",
      "25/06/04 23:53:29 WARN WindowExec: No Partition Defined for Window operation! Moving all data to a single partition, this can cause serious performance degradation.\n"
     ]
    },
    {
     "data": {
      "application/vnd.microsoft.datawrangler.viewer.v0+json": {
       "columns": [
        {
         "name": "index",
         "rawType": "int64",
         "type": "integer"
        },
        {
         "name": "userId",
         "rawType": "int32",
         "type": "integer"
        },
        {
         "name": "movieId",
         "rawType": "int32",
         "type": "integer"
        },
        {
         "name": "rating",
         "rawType": "float64",
         "type": "float"
        },
        {
         "name": "timestamp",
         "rawType": "int32",
         "type": "integer"
        },
        {
         "name": "user_idx",
         "rawType": "int32",
         "type": "integer"
        }
       ],
       "ref": "26cffa22-820c-40e3-a4d6-3eb79f862a85",
       "rows": [
        [
         "49443",
         "362",
         "367",
         "4.0",
         "1530640164",
         "361"
        ],
        [
         "70691",
         "488",
         "314",
         "2.5",
         "1112382491",
         "487"
        ],
        [
         "75316",
         "533",
         "2455",
         "3.0",
         "1424754053",
         "532"
        ],
        [
         "83070",
         "596",
         "150548",
         "3.5",
         "1535709519",
         "595"
        ],
        [
         "57285",
         "414",
         "3625",
         "2.0",
         "1050934949",
         "413"
        ]
       ],
       "shape": {
        "columns": 5,
        "rows": 5
       }
      },
      "text/html": [
       "<div>\n",
       "<style scoped>\n",
       "    .dataframe tbody tr th:only-of-type {\n",
       "        vertical-align: middle;\n",
       "    }\n",
       "\n",
       "    .dataframe tbody tr th {\n",
       "        vertical-align: top;\n",
       "    }\n",
       "\n",
       "    .dataframe thead th {\n",
       "        text-align: right;\n",
       "    }\n",
       "</style>\n",
       "<table border=\"1\" class=\"dataframe\">\n",
       "  <thead>\n",
       "    <tr style=\"text-align: right;\">\n",
       "      <th></th>\n",
       "      <th>userId</th>\n",
       "      <th>movieId</th>\n",
       "      <th>rating</th>\n",
       "      <th>timestamp</th>\n",
       "      <th>user_idx</th>\n",
       "    </tr>\n",
       "  </thead>\n",
       "  <tbody>\n",
       "    <tr>\n",
       "      <th>49443</th>\n",
       "      <td>362</td>\n",
       "      <td>367</td>\n",
       "      <td>4.0</td>\n",
       "      <td>1530640164</td>\n",
       "      <td>361</td>\n",
       "    </tr>\n",
       "    <tr>\n",
       "      <th>70691</th>\n",
       "      <td>488</td>\n",
       "      <td>314</td>\n",
       "      <td>2.5</td>\n",
       "      <td>1112382491</td>\n",
       "      <td>487</td>\n",
       "    </tr>\n",
       "    <tr>\n",
       "      <th>75316</th>\n",
       "      <td>533</td>\n",
       "      <td>2455</td>\n",
       "      <td>3.0</td>\n",
       "      <td>1424754053</td>\n",
       "      <td>532</td>\n",
       "    </tr>\n",
       "    <tr>\n",
       "      <th>83070</th>\n",
       "      <td>596</td>\n",
       "      <td>150548</td>\n",
       "      <td>3.5</td>\n",
       "      <td>1535709519</td>\n",
       "      <td>595</td>\n",
       "    </tr>\n",
       "    <tr>\n",
       "      <th>57285</th>\n",
       "      <td>414</td>\n",
       "      <td>3625</td>\n",
       "      <td>2.0</td>\n",
       "      <td>1050934949</td>\n",
       "      <td>413</td>\n",
       "    </tr>\n",
       "  </tbody>\n",
       "</table>\n",
       "</div>"
      ],
      "text/plain": [
       "       userId  movieId  rating   timestamp  user_idx\n",
       "49443     362      367     4.0  1530640164       361\n",
       "70691     488      314     2.5  1112382491       487\n",
       "75316     533     2455     3.0  1424754053       532\n",
       "83070     596   150548     3.5  1535709519       595\n",
       "57285     414     3625     2.0  1050934949       413"
      ]
     },
     "execution_count": 247,
     "metadata": {},
     "output_type": "execute_result"
    }
   ],
   "source": [
    "train_with_idx = ratings_train_df.join(user_index, on=\"userId\")\n",
    "train_with_idx.toPandas().sample(5)"
   ]
  },
  {
   "cell_type": "code",
   "execution_count": 248,
   "id": "af9a0d72",
   "metadata": {},
   "outputs": [
    {
     "name": "stdout",
     "output_type": "stream",
     "text": [
      "+-------+-----------+\n",
      "|movieId|num_ratings|\n",
      "+-------+-----------+\n",
      "|    356|        295|\n",
      "|    318|        283|\n",
      "|    296|        278|\n",
      "|    593|        253|\n",
      "|   2571|        239|\n",
      "|    260|        235|\n",
      "|    110|        215|\n",
      "|    480|        214|\n",
      "|      1|        199|\n",
      "|    589|        195|\n",
      "+-------+-----------+\n",
      "only showing top 10 rows\n"
     ]
    }
   ],
   "source": [
    "item_user_ratings = train_with_idx.groupBy(\"movieId\") \\\n",
    "    .agg(\n",
    "        collect_list(struct(\"user_idx\", \"rating\")).alias(\"user_ratings\"),\n",
    "        sql_count(\"*\").alias(\"num_ratings\")\n",
    "    )\n",
    "item_user_ratings.select(\"movieId\", \"num_ratings\") \\\n",
    "    .orderBy(col(\"num_ratings\").desc()).show(10)"
   ]
  },
  {
   "cell_type": "code",
   "execution_count": 249,
   "id": "1d7ab55c",
   "metadata": {},
   "outputs": [
    {
     "name": "stdout",
     "output_type": "stream",
     "text": [
      "Movies with more than 5 ratings: 3463\n"
     ]
    }
   ],
   "source": [
    "MIN_RATINGS = 5\n",
    "filtered_items = item_user_ratings.filter(col(\"num_ratings\") >= MIN_RATINGS)\n",
    "print(f\"Movies with more than {MIN_RATINGS} ratings: {filtered_items.count()}\")"
   ]
  },
  {
   "cell_type": "code",
   "execution_count": 250,
   "id": "5c151ede",
   "metadata": {},
   "outputs": [],
   "source": [
    "def to_sparse_vector(user_ratings, size):\n",
    "    \"\"\"\n",
    "    Converts a list of user ratings into a sparse vector.\n",
    "    user_ratings: list of structs {user_idx, rating}\n",
    "    size: total number of users\n",
    "    \"\"\"\n",
    "    if not user_ratings:\n",
    "        return Vectors.sparse(size, [], [])\n",
    "\n",
    "    # sorting to make all one style\n",
    "    sorted_ratings = sorted(user_ratings, key=lambda x: x.user_idx)\n",
    "\n",
    "    indices = [r.user_idx for r in sorted_ratings]\n",
    "    values = [float(r.rating) for r in sorted_ratings]\n",
    "\n",
    "    return Vectors.sparse(size, indices, values)"
   ]
  },
  {
   "cell_type": "code",
   "execution_count": 251,
   "id": "496aef3c",
   "metadata": {},
   "outputs": [
    {
     "name": "stderr",
     "output_type": "stream",
     "text": [
      "25/06/04 23:53:30 WARN WindowExec: No Partition Defined for Window operation! Moving all data to a single partition, this can cause serious performance degradation.\n",
      "25/06/04 23:53:30 WARN WindowExec: No Partition Defined for Window operation! Moving all data to a single partition, this can cause serious performance degradation.\n",
      "25/06/04 23:53:31 WARN WindowExec: No Partition Defined for Window operation! Moving all data to a single partition, this can cause serious performance degradation.\n",
      "25/06/04 23:53:31 WARN WindowExec: No Partition Defined for Window operation! Moving all data to a single partition, this can cause serious performance degradation.\n",
      "25/06/04 23:53:31 WARN WindowExec: No Partition Defined for Window operation! Moving all data to a single partition, this can cause serious performance degradation.\n",
      "25/06/04 23:53:31 WARN WindowExec: No Partition Defined for Window operation! Moving all data to a single partition, this can cause serious performance degradation.\n"
     ]
    },
    {
     "name": "stdout",
     "output_type": "stream",
     "text": [
      "3463 vectors created\n",
      "+-------+-----------+--------------------+\n",
      "|movieId|num_ratings|            features|\n",
      "+-------+-----------+--------------------+\n",
      "|      1|        199|(610,[0,4,6,14,16...|\n",
      "|      2|         96|(610,[5,7,19,20,2...|\n",
      "|      3|         47|(610,[0,5,18,31,4...|\n",
      "|      4|          6|(610,[5,13,83,161...|\n",
      "|      5|         46|(610,[5,30,44,57,...|\n",
      "|      6|         93|(610,[0,5,10,17,2...|\n",
      "|      7|         49|(610,[5,13,18,30,...|\n",
      "|      8|          8|(610,[5,19,42,273...|\n",
      "|      9|         15|(610,[150,178,216...|\n",
      "|     10|        121|(610,[5,7,10,18,2...|\n",
      "+-------+-----------+--------------------+\n",
      "only showing top 10 rows\n"
     ]
    }
   ],
   "source": [
    "item_vectors_rdd = filtered_items.rdd.map(\n",
    "    lambda row: Row(\n",
    "        movieId=row[\"movieId\"],\n",
    "        features=to_sparse_vector(row[\"user_ratings\"], num_users),\n",
    "        num_ratings=row[\"num_ratings\"]\n",
    "    )\n",
    ")\n",
    "\n",
    "item_vectors_df = spark.createDataFrame(item_vectors_rdd)\n",
    "\n",
    "print(f\"{item_vectors_df.count()} vectors created\")\n",
    "item_vectors_df.select(\"movieId\", \"num_ratings\", \"features\").show(10)"
   ]
  },
  {
   "cell_type": "code",
   "execution_count": 252,
   "id": "138608d4",
   "metadata": {},
   "outputs": [
    {
     "name": "stdout",
     "output_type": "stream",
     "text": [
      "+-------+-----------+--------------------+\n",
      "|movieId|num_ratings|       norm_features|\n",
      "+-------+-----------+--------------------+\n",
      "|      1|        199|(610,[0,4,6,14,16...|\n",
      "|      2|         96|(610,[5,7,19,20,2...|\n",
      "|      3|         47|(610,[0,5,18,31,4...|\n",
      "|      4|          6|(610,[5,13,83,161...|\n",
      "|      5|         46|(610,[5,30,44,57,...|\n",
      "|      6|         93|(610,[0,5,10,17,2...|\n",
      "|      7|         49|(610,[5,13,18,30,...|\n",
      "|      8|          8|(610,[5,19,42,273...|\n",
      "|      9|         15|(610,[150,178,216...|\n",
      "|     10|        121|(610,[5,7,10,18,2...|\n",
      "+-------+-----------+--------------------+\n",
      "only showing top 10 rows\n"
     ]
    }
   ],
   "source": [
    "# data should be normalized for LSH\n",
    "normalizer = Normalizer(inputCol=\"features\", outputCol=\"norm_features\", p=2.0)\n",
    "normalized_df = normalizer.transform(item_vectors_df)\n",
    "normalized_df.select(\"movieId\", \"num_ratings\", \"norm_features\").show(10)"
   ]
  },
  {
   "cell_type": "code",
   "execution_count": 253,
   "id": "5f982c9b",
   "metadata": {},
   "outputs": [],
   "source": [
    "lsh = BucketedRandomProjectionLSH(\n",
    "    inputCol=\"norm_features\", outputCol=\"hashes\", bucketLength=BUCKET_LENGTH, numHashTables=NUM_HASH_TABLES, seed=seed\n",
    ")\n",
    "lsh_model = lsh.fit(normalized_df)\n",
    "hashed_df = lsh_model.transform(normalized_df)\n",
    "\n",
    "similar_pairs = lsh_model.approxSimilarityJoin(\n",
    "    normalized_df, normalized_df, SIMILARITY_THRESHOLD, distCol=\"distance\"\n",
    ").filter(col(\"datasetA.movieId\") < col(\"datasetB.movieId\"))\n",
    "\n",
    "similarities_df = similar_pairs.withColumn(\n",
    "    \"cosine_similarity\", 1 - (col(\"distance\") ** 2) / 2\n",
    ").select(\n",
    "    col(\"datasetA.movieId\").alias(\"movie_i\"),\n",
    "    col(\"datasetB.movieId\").alias(\"movie_j\"),\n",
    "    \"cosine_similarity\"\n",
    ")"
   ]
  },
  {
   "cell_type": "code",
   "execution_count": 254,
   "id": "1c02c82b",
   "metadata": {},
   "outputs": [],
   "source": [
    "\n",
    "reverse_similarities = similarities_df.selectExpr(\n",
    "    \"movie_j as movie_i\", \"movie_i as movie_j\", \"cosine_similarity\"\n",
    ")\n",
    "full_similarities = similarities_df.union(reverse_similarities)\n",
    "\n",
    "# get top-20 similar movies for each movie\n",
    "window_spec = Window.partitionBy(\"movie_i\").orderBy(col(\"cosine_similarity\").desc())\n",
    "final_similarities = full_similarities.withColumn(\"rank\", row_number().over(window_spec)) \\\n",
    "                                      .filter(col(\"rank\") <= TOP_K) \\\n",
    "                                      .drop(\"rank\").cache()\n"
   ]
  },
  {
   "cell_type": "code",
   "execution_count": 255,
   "id": "004e2480",
   "metadata": {},
   "outputs": [],
   "source": [
    "\n",
    "def find_similar_movies(movie_id, k=5):\n",
    "    \"\"\"\n",
    "    Find top-k similar movies for a given movie_id.\n",
    "    \"\"\"\n",
    "    return final_similarities.filter(col(\"movie_i\") == movie_id) \\\n",
    "        .join(movies_df, col(\"movie_j\") == movies_df.movieId) \\\n",
    "        .orderBy(col(\"cosine_similarity\").desc()) \\\n",
    "        .select(\"movie_j\", \"title\", \"cosine_similarity\") \\\n",
    "        .limit(k).collect()\n"
   ]
  },
  {
   "cell_type": "code",
   "execution_count": 256,
   "id": "daff8db9",
   "metadata": {},
   "outputs": [
    {
     "name": "stdout",
     "output_type": "stream",
     "text": [
      "Test movie: Forrest Gump (1994) (ID: 356)\n"
     ]
    },
    {
     "name": "stderr",
     "output_type": "stream",
     "text": [
      "[Stage 1169:=====================================>                  (2 + 1) / 3]\r"
     ]
    },
    {
     "name": "stdout",
     "output_type": "stream",
     "text": [
      "1. Shawshank Redemption, The (1994) (similarity: 0.637)\n",
      "2. Jurassic Park (1993) (similarity: 0.627)\n",
      "3. Pulp Fiction (1994) (similarity: 0.617)\n",
      "4. Silence of the Lambs, The (1991) (similarity: 0.599)\n",
      "5. Braveheart (1995) (similarity: 0.586)\n"
     ]
    },
    {
     "name": "stderr",
     "output_type": "stream",
     "text": [
      "                                                                                \r"
     ]
    }
   ],
   "source": [
    "\n",
    "test_movie = ratings_train_df.groupBy(\"movieId\").count().orderBy(col(\"count\").desc()).first().movieId\n",
    "test_movie_title = movies_df.filter(col(\"movieId\") == test_movie).select(\"title\").first().title\n",
    "\n",
    "\n",
    "print(f\"Test movie: {test_movie_title} (ID: {test_movie})\")\n",
    "for i, row in enumerate(find_similar_movies(test_movie), 1):\n",
    "    print(f\"{i}. {row.title} (similarity: {row.cosine_similarity:.3f})\")"
   ]
  },
  {
   "cell_type": "code",
   "execution_count": 257,
   "id": "f1823416",
   "metadata": {},
   "outputs": [],
   "source": [
    "test_with_idx = ratings_test_df.join(user_index, on=\"userId\", how=\"inner\")\n"
   ]
  },
  {
   "cell_type": "code",
   "execution_count": 258,
   "id": "5d544530",
   "metadata": {},
   "outputs": [],
   "source": [
    "# join test with similarities to find neighbor movies for each test rating\n",
    "test_with_similarities = test_with_idx.alias(\"test\") \\\n",
    "    .join(final_similarities.alias(\"sim\"),\n",
    "          col(\"test.movieId\") == col(\"sim.movie_i\")) \\\n",
    "    .select(\n",
    "        col(\"test.userId\"),\n",
    "        col(\"test.movieId\").alias(\"target_movie\"),\n",
    "        col(\"test.rating\").alias(\"true_rating\"),\n",
    "        col(\"sim.movie_j\").alias(\"neighbor_movie\"),\n",
    "        col(\"sim.cosine_similarity\")\n",
    "    )"
   ]
  },
  {
   "cell_type": "code",
   "execution_count": 259,
   "id": "714483e9",
   "metadata": {},
   "outputs": [],
   "source": [
    "# join with training ratings to get user's ratings for neighbor movies\n",
    "test_with_neighbor_ratings = test_with_similarities.alias(\"tsim\") \\\n",
    "    .join(train_with_idx.alias(\"train\"),\n",
    "          (col(\"tsim.userId\") == col(\"train.userId\")) &\n",
    "          (col(\"tsim.neighbor_movie\") == col(\"train.movieId\"))) \\\n",
    "    .select(\n",
    "        col(\"tsim.userId\"),\n",
    "        col(\"tsim.target_movie\"),\n",
    "        col(\"tsim.true_rating\"),\n",
    "        col(\"tsim.neighbor_movie\"),\n",
    "        col(\"tsim.cosine_similarity\"),\n",
    "        col(\"train.rating\").alias(\"neighbor_rating\")\n",
    "    )"
   ]
  },
  {
   "cell_type": "code",
   "execution_count": 260,
   "id": "b591f404",
   "metadata": {},
   "outputs": [],
   "source": [
    "# calculate weighted average predictions\n",
    "predictions_df = test_with_neighbor_ratings.groupBy(\"userId\", \"target_movie\", \"true_rating\") \\\n",
    "    .agg(\n",
    "        (sql_sum(col(\"cosine_similarity\") * col(\"neighbor_rating\")) /\n",
    "         sql_sum(col(\"cosine_similarity\"))).alias(\"predicted_rating\")\n",
    "    )"
   ]
  },
  {
   "cell_type": "code",
   "execution_count": 261,
   "id": "89733917",
   "metadata": {},
   "outputs": [
    {
     "name": "stdout",
     "output_type": "stream",
     "text": [
      "Generated predictions for 9920 test ratings\n",
      "+------+-------+-----------+------------------+\n",
      "|userId|movieId|true_rating|  predicted_rating|\n",
      "+------+-------+-----------+------------------+\n",
      "|   148|    356|        4.0|               3.0|\n",
      "|   148|   8368|        4.0|3.8601340526974117|\n",
      "|   148|  30816|        5.0|               3.0|\n",
      "|   148|  68954|        4.0|3.5166195918784053|\n",
      "|   148|  72998|        4.0|3.8371904807130477|\n",
      "|   148| 112852|        3.5|  3.71665694220925|\n",
      "|   463|    110|        4.5| 4.154045476658502|\n",
      "|   463|  36529|        4.5|               3.0|\n",
      "|   471|   2571|        3.5|3.6791178600161594|\n",
      "|   471|   6016|        4.0|               3.0|\n",
      "+------+-------+-----------+------------------+\n",
      "only showing top 10 rows\n"
     ]
    }
   ],
   "source": [
    "final_predictions = test_with_idx.alias(\"test\") \\\n",
    "    .join(predictions_df.alias(\"pred\"),\n",
    "          (col(\"test.userId\") == col(\"pred.userId\")) &\n",
    "          (col(\"test.movieId\") == col(\"pred.target_movie\")),\n",
    "          how=\"left\") \\\n",
    "    .select(\n",
    "        col(\"test.userId\"),\n",
    "        col(\"test.movieId\"),\n",
    "        col(\"test.rating\").alias(\"true_rating\"),\n",
    "        coalesce(col(\"pred.predicted_rating\"), lit(DEFAULT_RATING)).alias(\"predicted_rating\")\n",
    "    )\n",
    "\n",
    "print(\"Generated predictions for\", final_predictions.count(),  \"test ratings\")\n",
    "final_predictions.show(10)"
   ]
  },
  {
   "cell_type": "code",
   "execution_count": 262,
   "id": "42719569",
   "metadata": {},
   "outputs": [],
   "source": [
    "final_predictions.toPandas().to_csv(os.path.join(OUTPUT_DIR, \"100k_predictions.csv\"), index=False)"
   ]
  },
  {
   "cell_type": "code",
   "execution_count": 263,
   "id": "abb0915c",
   "metadata": {},
   "outputs": [
    {
     "name": "stdout",
     "output_type": "stream",
     "text": [
      "Final Results:\n",
      "RMSE: 1.0427\n",
      "MAE: 0.8109\n"
     ]
    }
   ],
   "source": [
    "rmse_evaluator = RegressionEvaluator(\n",
    "    metricName=\"rmse\", labelCol=\"true_rating\", predictionCol=\"predicted_rating\"\n",
    ")\n",
    "mae_evaluator = RegressionEvaluator(\n",
    "    metricName=\"mae\", labelCol=\"true_rating\", predictionCol=\"predicted_rating\"\n",
    ")\n",
    "\n",
    "rmse = rmse_evaluator.evaluate(final_predictions)\n",
    "mae = mae_evaluator.evaluate(final_predictions)\n",
    "\n",
    "print(f\"Final Results:\")\n",
    "print(f\"RMSE: {rmse:.4f}\")\n",
    "print(f\"MAE: {mae:.4f}\")"
   ]
  },
  {
   "cell_type": "code",
   "execution_count": 264,
   "id": "444441c1",
   "metadata": {},
   "outputs": [
    {
     "name": "stdout",
     "output_type": "stream",
     "text": [
      "Coverage: 36.4% (3612/9920 predictions from neighbors)\n"
     ]
    }
   ],
   "source": [
    "global_avg = ratings_train_df.agg(avg(\"rating\")).collect()[0][0]\n",
    "neighbor_predictions = final_predictions.filter(col(\"predicted_rating\") != DEFAULT_RATING).count()\n",
    "total_predictions = final_predictions.count()\n",
    "coverage = neighbor_predictions / total_predictions * 100\n",
    "\n",
    "print(f\"Coverage: {coverage:.1f}% ({neighbor_predictions}/{total_predictions} predictions from neighbors)\")\n"
   ]
  },
  {
   "cell_type": "markdown",
   "id": "12859048",
   "metadata": {},
   "source": []
  },
  {
   "cell_type": "code",
   "execution_count": 265,
   "id": "4ca8a337",
   "metadata": {},
   "outputs": [
    {
     "data": {
      "image/png": "[encoded data removed]",
      "text/plain": [
       "<Figure size 1200x400 with 3 Axes>"
      ]
     },
     "metadata": {},
     "output_type": "display_data"
    },
    {
     "name": "stdout",
     "output_type": "stream",
     "text": [
      "\n",
      "Error Statistics:\n",
      "Mean Error: -0.2484\n",
      "Std Error: 1.0127\n",
      "MAE (manual): 0.8109\n",
      "RMSE (manual): 1.0427\n"
     ]
    }
   ],
   "source": [
    "prediction_stats = final_predictions.select(\"predicted_rating\", \"true_rating\").toPandas()\n",
    "\n",
    "plt.figure(figsize=(12, 4))\n",
    "\n",
    "plt.subplot(1, 3, 1)\n",
    "plt.hist(prediction_stats['predicted_rating'], bins=20, alpha=0.7, label='Predicted')\n",
    "plt.hist(prediction_stats['true_rating'], bins=20, alpha=0.7, label='True')\n",
    "plt.xlabel('Rating')\n",
    "plt.ylabel('Frequency')\n",
    "plt.title('Rating Distribution')\n",
    "plt.legend()\n",
    "\n",
    "plt.subplot(1, 3, 2)\n",
    "plt.scatter(prediction_stats['true_rating'], prediction_stats['predicted_rating'], alpha=0.5)\n",
    "plt.plot([0.5, 5], [0.5, 5], 'r--', alpha=0.8)\n",
    "plt.xlabel('True Rating')\n",
    "plt.ylabel('Predicted Rating')\n",
    "plt.title('Predicted vs True Ratings')\n",
    "\n",
    "plt.subplot(1, 3, 3)\n",
    "errors = prediction_stats['predicted_rating'] - prediction_stats['true_rating']\n",
    "plt.hist(errors, bins=20, alpha=0.7)\n",
    "plt.xlabel('Prediction Error')\n",
    "plt.ylabel('Frequency')\n",
    "plt.title('Error Distribution')\n",
    "plt.axvline(x=0, color='r', linestyle='--', alpha=0.8)\n",
    "\n",
    "plt.tight_layout()\n",
    "plt.show()\n",
    "\n",
    "print(f\"\\nError Statistics:\")\n",
    "print(f\"Mean Error: {errors.mean():.4f}\")\n",
    "print(f\"Std Error: {errors.std():.4f}\")\n",
    "print(f\"MAE (manual): {abs(errors).mean():.4f}\")\n",
    "print(f\"RMSE (manual): {np.sqrt((errors**2).mean()):.4f}\")"
   ]
  },
  {
   "cell_type": "code",
   "execution_count": 266,
   "id": "78479f35",
   "metadata": {},
   "outputs": [
    {
     "name": "stdout",
     "output_type": "stream",
     "text": [
      "RMSE: 1.0427, MAE: 0.8109\n"
     ]
    }
   ],
   "source": [
    "results_row = pd.DataFrame([{\n",
    "    \"dataset\": \"100k\",\n",
    "    \"rmse\": rmse,\n",
    "    \"mae\": mae,\n",
    "    \"bucketLength\": BUCKET_LENGTH,\n",
    "    \"numHashTables\": NUM_HASH_TABLES,\n",
    "    \"threshold\": SIMILARITY_THRESHOLD,\n",
    "    \"top_k\": TOP_K,\n",
    "    \"timestamp\": time.strftime(\"%Y%m%d_%H%M%S\")\n",
    "}])\n",
    "if os.path.exists(METRICS_FILE):\n",
    "    old = pd.read_csv(METRICS_FILE)\n",
    "    all_metrics = pd.concat([old, results_row], ignore_index=True)\n",
    "else:\n",
    "    all_metrics = results_row\n",
    "\n",
    "all_metrics.to_csv(METRICS_FILE, index=False)\n",
    "\n",
    "print(f\"RMSE: {rmse:.4f}, MAE: {mae:.4f}\")\n",
    "# spark.stop()\n"
   ]
  }
 ],
 "metadata": {
  "kernelspec": {
   "display_name": "3_9",
   "language": "python",
   "name": "python3"
  },
  "language_info": {
   "codemirror_mode": {
    "name": "ipython",
    "version": 3
   },
   "file_extension": ".py",
   "mimetype": "text/x-python",
   "name": "python",
   "nbconvert_exporter": "python",
   "pygments_lexer": "ipython3",
   "version": "3.9.22"
  }
 },
 "nbformat": 4,
 "nbformat_minor": 5
}
